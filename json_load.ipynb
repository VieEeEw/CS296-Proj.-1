{
 "cells": [
  {
   "cell_type": "code",
   "execution_count": 1,
   "metadata": {
    "colab": {},
    "colab_type": "code",
    "id": "O82Cym1gBjaO"
   },
   "outputs": [],
   "source": [
    "import pandas as pd\n",
    "import numpy as np\n",
    "import json"
   ]
  },
  {
   "cell_type": "code",
   "execution_count": 2,
   "metadata": {
    "colab": {},
    "colab_type": "code",
    "id": "tWlVYX6wBto0"
   },
   "outputs": [],
   "source": [
    "file_path = \"https://raw.githubusercontent.com/VieEeEw/CS296-project1/master/data.csv\""
   ]
  },
  {
   "cell_type": "code",
   "execution_count": 4,
   "metadata": {
    "colab": {
     "base_uri": "https://localhost:8080/",
     "height": 235076
    },
    "colab_type": "code",
    "id": "yxh5RTz1B2t5",
    "outputId": "8b563407-6e10-4a3b-cdef-6dab7c31db83"
   },
   "outputs": [],
   "source": [
    "rawDF = pd.read_csv(file_path, low_memory=False)\n",
    "rawDF = rawDF.fillna(0)[['Fall', 'College', 'Major Name', 'Total']]\n",
    "rawDF['Total'] = pd.to_numeric(rawDF['Total']\n",
    "                               .astype(str)\n",
    "                               .replace(\",\",\"\", regex=True)\n",
    "                               .loc[rawDF['Total'] != 'Art and Design'])\n",
    "\n",
    "procDF = (rawDF\n",
    "          .loc[rawDF['Major Name'].str.isupper() == False]\n",
    "         .groupby(['Fall', 'College', 'Major Name'], as_index=False)\n",
    "          .sum())\n",
    "\n",
    "outDF = (procDF\n",
    "         .set_index([\"Fall\", \"College\", 'Major Name'])\n",
    "         .unstack(level=0)\n",
    "         .fillna(0)\n",
    "         .stack()\n",
    "         .reset_index()\n",
    "        )\n",
    "\n",
    "\n",
    "test = outDF.loc[outDF['College'] == \"Engineering\"][['Major Name', 'Fall', 'Total']]\n",
    "\n",
    "totals = outDF.groupby(['College', 'Fall'])['Total'].sum().reset_index()\n",
    "\n",
    "totals['Major Name'] = 'Total'\n",
    "\n",
    "finalDF = pd.concat([outDF, totals], sort=False).sort_values(['College','Major Name', 'Fall', 'Total'])\n",
    "\n",
    "\n",
    "json_out = (finalDF.groupby(['College', 'Major Name'])\n",
    "    .apply(lambda x: x[['Fall', 'Total']].to_dict('records'))\n",
    "    .reset_index()\n",
    "    .rename(columns={0:'Count'})\n",
    "    .groupby(['College'])\n",
    "    .apply(lambda x: dict(zip(x['Major Name'], x['Count'])))\n",
    "    .reset_index()\n",
    "    .rename(columns={0:'Major'})\n",
    "    .to_json(orient='records')\n",
    ")\n",
    "\n",
    "\n",
    "# json.loads(json_out)\n",
    "\n",
    "with open('out.json', 'w') as file:\n",
    "  json.dump(json_out, file)\n",
    "  "
   ]
  },
  {
   "cell_type": "code",
   "execution_count": 0,
   "metadata": {
    "colab": {},
    "colab_type": "code",
    "id": "mI8DrDvmYk9V"
   },
   "outputs": [],
   "source": []
  }
 ],
 "metadata": {
  "colab": {
   "name": "json_load.ipynb",
   "provenance": [],
   "version": "0.3.2"
  },
  "kernelspec": {
   "display_name": "Python 3",
   "language": "python",
   "name": "python3"
  },
  "language_info": {
   "codemirror_mode": {
    "name": "ipython",
    "version": 3
   },
   "file_extension": ".py",
   "mimetype": "text/x-python",
   "name": "python",
   "nbconvert_exporter": "python",
   "pygments_lexer": "ipython3",
   "version": "3.6.7"
  }
 },
 "nbformat": 4,
 "nbformat_minor": 1
}
