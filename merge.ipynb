{
 "cells": [
  {
   "cell_type": "code",
   "execution_count": 1,
   "metadata": {
    "collapsed": true
   },
   "outputs": [],
   "source": [
    "import pandas as pd"
   ]
  },
  {
   "cell_type": "code",
   "execution_count": 2,
   "metadata": {},
   "outputs": [],
   "source": [
    "df = pd.read_csv('temp.csv')"
   ]
  },
  {
   "cell_type": "code",
   "execution_count": 26,
   "metadata": {},
   "outputs": [],
   "source": [
    "# for title in df:\n",
    "#     print(df[title])\n",
    "s = ['Total', 'Male', 'Female', 'Caucasian', 'Asian American', 'African American', 'Hispanic', 'All African American', 'All Native American',\n",
    "     'Native American', 'Hawaiian/Pacific Isl', 'Multiracial', 'Native American', 'Hawaiian/Pacific Isl', 'Multiracial', 'International', 'All Hawaiian/ Pac Isl',\n",
    "     'All Asian', 'Illinois', 'Non-Illinois']\n",
    "years = set(df['Fall'].values)\n",
    "colleges = set(df['College'].values)\n",
    "full_index = ['Year', 'College'] + s"
   ]
  },
  {
   "cell_type": "code",
   "execution_count": 43,
   "metadata": {},
   "outputs": [],
   "source": [
    "new_df = pd.DataFrame(columns=full_index)\n"
   ]
  },
  {
   "cell_type": "code",
   "execution_count": 45,
   "metadata": {},
   "outputs": [],
   "source": [
    "for year in years:\n",
    "    for college in colleges:\n",
    "        to_merge = df[(df['Fall'] == year) & (df['College'] == college)]\n",
    "        to_append = [year, college]\n",
    "        for title in s:\n",
    "            to_append.append(to_merge[title].sum())\n",
    "        new_df = new_df.append(pd.Series(to_append, index=full_index), ignore_index=True)"
   ]
  },
  {
   "cell_type": "code",
   "execution_count": 47,
   "metadata": {},
   "outputs": [],
   "source": [
    "new_df.to_csv('cleaned.csv')"
   ]
  },
  {
   "cell_type": "code",
   "execution_count": null,
   "metadata": {},
   "outputs": [],
   "source": []
  }
 ],
 "metadata": {
  "kernelspec": {
   "display_name": "Python 2",
   "language": "python",
   "name": "python2"
  },
  "language_info": {
   "codemirror_mode": {
    "name": "ipython",
    "version": 2
   },
   "file_extension": ".py",
   "mimetype": "text/x-python",
   "name": "python",
   "nbconvert_exporter": "python",
   "pygments_lexer": "ipython2",
   "version": "2.7.6"
  }
 },
 "nbformat": 4,
 "nbformat_minor": 0
}
