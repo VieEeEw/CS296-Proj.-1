{
  "nbformat": 4,
  "nbformat_minor": 0,
  "metadata": {
    "colab": {
      "name": "json_load.ipynb",
      "version": "0.3.2",
      "provenance": [],
      "include_colab_link": true
    },
    "kernelspec": {
      "name": "python3",
      "display_name": "Python 3"
    }
  },
  "cells": [
    {
      "cell_type": "markdown",
      "metadata": {
        "id": "view-in-github",
        "colab_type": "text"
      },
      "source": [
        "<a href=\"https://colab.research.google.com/github/VieEeEw/CS296-project1/blob/master/json_load_2.ipynb\" target=\"_parent\"><img src=\"https://colab.research.google.com/assets/colab-badge.svg\" alt=\"Open In Colab\"/></a>"
      ]
    },
    {
      "metadata": {
        "id": "O82Cym1gBjaO",
        "colab_type": "code",
        "colab": {}
      },
      "cell_type": "code",
      "source": [
        "import pandas as pd\n",
        "import numpy as np\n",
        "import json"
      ],
      "execution_count": 0,
      "outputs": []
    },
    {
      "metadata": {
        "id": "tWlVYX6wBto0",
        "colab_type": "code",
        "colab": {}
      },
      "cell_type": "code",
      "source": [
        "file_path = \"https://raw.githubusercontent.com/VieEeEw/CS296-project1/master/data.csv\""
      ],
      "execution_count": 0,
      "outputs": []
    },
    {
      "metadata": {
        "id": "yxh5RTz1B2t5",
        "colab_type": "code",
        "colab": {}
      },
      "cell_type": "code",
      "source": [
        "rawDF = pd.read_csv(file_path, low_memory=False)\n",
        "rawDF = rawDF.fillna(0)[['Fall', 'College', 'Major Name', 'Total']]\n",
        "rawDF['Total'] = pd.to_numeric(rawDF['Total']\n",
        "                               .astype(str)\n",
        "                               .replace(\",\",\"\", regex=True)\n",
        "                               .loc[rawDF['Total'] != 'Art and Design'])\n",
        "\n",
        "procDF = (rawDF\n",
        "          .loc[rawDF['Major Name'].str.isupper() == False]\n",
        "         .groupby(['Fall', 'College', 'Major Name'], as_index=False)\n",
        "          .sum())\n",
        "\n",
        "outDF = (procDF\n",
        "         .set_index([\"Fall\", \"College\", 'Major Name'])\n",
        "         .unstack(level=0)\n",
        "         .fillna(0)\n",
        "         .stack()\n",
        "         .reset_index()\n",
        "        )\n",
        "\n",
        "\n",
        "test = outDF.loc[outDF['College'] == \"Engineering\"][['Major Name', 'Fall', 'Total']]\n",
        "\n",
        "totals = outDF.groupby(['College', 'Fall'])['Total'].sum().reset_index()\n",
        "\n",
        "totals['Major Name'] = 'Total'\n",
        "\n",
        "finalDF = pd.concat([outDF, totals], sort=False).sort_values(['College','Major Name', 'Fall', 'Total'])\n",
        "\n",
        "\n",
        "json_out = (finalDF.groupby(['College', 'Major Name'])\n",
        "    .apply(lambda x: x[['Fall', 'Total']].to_dict('records'))\n",
        "    .reset_index()\n",
        "    .rename(columns={0:'Count'})\n",
        "    .groupby(['College'])\n",
        "    .apply(lambda x: dict(zip(x['Major Name'], x['Count'])))\n",
        "    .reset_index()\n",
        "    .rename(columns={0:'Major'})\n",
        "    .to_json(orient='records')\n",
        ")\n",
        "\n",
        "\n",
        "# json.loads(json_out)\n",
        "\n",
        "# with open('out.json', 'w') as file:\n",
        "#   json.dump(json_out, file)\n",
        "  "
      ],
      "execution_count": 0,
      "outputs": []
    },
    {
      "metadata": {
        "id": "mI8DrDvmYk9V",
        "colab_type": "code",
        "colab": {}
      },
      "cell_type": "code",
      "source": [
        ""
      ],
      "execution_count": 0,
      "outputs": []
    }
  ]
}